{
 "cells": [
  {
   "cell_type": "code",
   "execution_count": 1,
   "metadata": {},
   "outputs": [],
   "source": [
    "import pandas as pd\n",
    "import numpy as np\n",
    "from sklearn.decomposition import TruncatedSVD\n",
    "from sklearn.metrics.pairwise import cosine_similarity\n",
    "from sklearn.feature_extraction.text import TfidfVectorizer"
   ]
  },
  {
   "cell_type": "code",
   "execution_count": 2,
   "metadata": {},
   "outputs": [],
   "source": [
    "#read in data sets\n",
    "ratings = pd.read_csv('BX-Book-Ratings.csv', encoding='ISO-8859-1', delimiter=';', on_bad_lines='skip')\n",
    "users = pd.read_csv('BX-Users.csv',encoding='ISO-8859-1', delimiter=';', on_bad_lines='skip')\n",
    "books = pd.read_csv('BX_Books.csv', encoding='ISO-8859-1', delimiter=';', quotechar='\"', skipinitialspace=True)"
   ]
  },
  {
   "cell_type": "code",
   "execution_count": 3,
   "metadata": {},
   "outputs": [],
   "source": [
    "# #Remove images, year of publication, & publisher columns from Books dataset\n",
    "copy_books = books.drop(['Image-URL-S', 'Image-URL-M', 'Image-URL-L', 'Year-Of-Publication','Publisher'], axis=1)\n",
    "copy_books.to_csv('new_books.csv', index=False, sep=';', encoding='ISO-8859-1', quotechar='\"')\n",
    "# #books csv to df\n",
    "pd.set_option('display.max_columns', None) #To print entire df\n",
    "pd.set_option('display.expand_frame_repr', False) #To print entire df\n",
    "books_df = pd.read_csv('new_books.csv', encoding='ISO-8859-1', delimiter=';', quotechar='\"')"
   ]
  },
  {
   "cell_type": "code",
   "execution_count": 4,
   "metadata": {},
   "outputs": [],
   "source": [
    "#Merge datasets\n",
    "isbn_merge = pd.merge(ratings, books_df, on='ISBN')\n",
    "fin_merge = pd.merge(isbn_merge, users, on='User-ID')"
   ]
  },
  {
   "cell_type": "code",
   "execution_count": 5,
   "metadata": {},
   "outputs": [],
   "source": [
    "#replace na in Age column with median\n",
    "fin_merge['Age'] = fin_merge['Age'].fillna(fin_merge['Age'].median())"
   ]
  },
  {
   "cell_type": "code",
   "execution_count": 6,
   "metadata": {},
   "outputs": [],
   "source": [
    "#replace any rows missing a value in location with n/a\n",
    "def clean_location(location):\n",
    "    parts = location.split(',')\n",
    "    if any(part.strip().lower() == 'n/a' for part in parts) or any(part.strip() == '' for part in parts):\n",
    "        return 'unknown'\n",
    "    return location\n",
    "fin_merge['Location'] = fin_merge['Location'].apply(clean_location)"
   ]
  },
  {
   "cell_type": "code",
   "execution_count": 7,
   "metadata": {},
   "outputs": [],
   "source": [
    "#Replace na in location with unknown\n",
    "fin_merge['Location'] = fin_merge['Location'].replace('n/a','unknown')"
   ]
  },
  {
   "cell_type": "code",
   "execution_count": 8,
   "metadata": {},
   "outputs": [
    {
     "name": "stdout",
     "output_type": "stream",
     "text": [
      "    User-ID        ISBN  Book-Rating                                         Book-Title         Book-Author                       Location   Age\n",
      "0    276725  034545104X            0                               Flesh Tones: A Novel          M. J. Rose              tyler, texas, usa  35.0\n",
      "1    276726  0155061224            5                                   Rites of Passage          Judith Rae       seattle, washington, usa  35.0\n",
      "2    276727  0446520802            0                                       The Notebook     Nicholas Sparks  h, new south wales, australia  16.0\n",
      "3    276729  052165615X            3                                     Help!: Level 1       Philip Prowse                        unknown  16.0\n",
      "4    276729  0521795028            6  The Amsterdam Connection : Level 4 (Cambridge ...         Sue Leather                        unknown  16.0\n",
      "5    276733  2080674722            0                        Les Particules Elementaires  Michel Houellebecq                        unknown  37.0\n",
      "6    276744  038550120X            7                                    A Painted House        JOHN GRISHAM      torrance, california, usa  35.0\n",
      "7    276746  0425115801            0                                          Lightning      Dean R. Koontz                        unknown  35.0\n",
      "8    276746  0449006522            0                                Manhattan Hunt Club           JOHN SAUL                        unknown  35.0\n",
      "9    276746  0553561618            0                                      Dark Paradise           TAMI HOAG                        unknown  35.0\n",
      "10   276746  055356451X            0                                         Night Sins           TAMI HOAG                        unknown  35.0\n",
      "11   276746  0786013990            0                                        At the Edge           David Dun                        unknown  35.0\n",
      "12   276746  0786014512            0                                      Make Them Cry       Kevin O'Brien                        unknown  35.0\n",
      "13   276747  0060517794            9                           Little Altars Everywhere       Rebecca Wells           iowa city, iowa, usa  25.0\n",
      "14   276747  0451192001            0                     How Stella Got Her Groove Back      Terry McMillan           iowa city, iowa, usa  25.0\n",
      "15   276747  0609801279            0                                    The Law of Love      Laura Esquivel           iowa city, iowa, usa  25.0\n",
      "16   276747  0671537458            9                                  Waiting to Exhale      Terry McMillan           iowa city, iowa, usa  25.0\n",
      "17   276747  0679776818            8                  Birdsong: A Novel of Love and War    Sebastian Faulks           iowa city, iowa, usa  25.0\n",
      "18   276747  0943066433            7                  How to Deal With Difficult People       Rick Brinkman           iowa city, iowa, usa  25.0\n",
      "19   276747  1570231028            0  Change Your Job, Change Your Life: High Impact...  Ronald L. Krannich           iowa city, iowa, usa  25.0\n"
     ]
    }
   ],
   "source": [
    "#drop duplcate rows\n",
    "fin_merge.drop_duplicates(inplace=True)\n",
    "#create new csv file with cleaned data\n",
    "fin_merge.to_csv('merged_data.csv', index=False, sep=';', encoding='ISO-8859-1', quotechar='\"')\n",
    "print(fin_merge.head(20))"
   ]
  },
  {
   "cell_type": "code",
   "execution_count": 9,
   "metadata": {},
   "outputs": [],
   "source": [
    "data = pd.read_csv('merged_data.csv', encoding='ISO-8859-1', delimiter=';')"
   ]
  },
  {
   "cell_type": "code",
   "execution_count": 11,
   "metadata": {},
   "outputs": [
    {
     "name": "stdout",
     "output_type": "stream",
     "text": [
      "    User-ID        ISBN  Book-Rating                                         Book-Title         Book-Author                       Location   Age                              Genre\n",
      "0    276725  034545104X            0                               Flesh Tones: A Novel          M. J. Rose              tyler, texas, usa  35.0                                NaN\n",
      "1    276726  0155061224            5                                   Rites of Passage          Judith Rae       seattle, washington, usa  35.0                                NaN\n",
      "2    276727  0446520802            0                                       The Notebook     Nicholas Sparks  h, new south wales, australia  16.0     Fiction , Historical , General\n",
      "3    276729  052165615X            3                                     Help!: Level 1       Philip Prowse                        unknown  16.0                                NaN\n",
      "4    276729  0521795028            6  The Amsterdam Connection : Level 4 (Cambridge ...         Sue Leather                        unknown  16.0                                NaN\n",
      "5    276733  2080674722            0                        Les Particules Elementaires  Michel Houellebecq                        unknown  37.0                                NaN\n",
      "6    276744  038550120X            7                                    A Painted House        JOHN GRISHAM      torrance, california, usa  35.0            Fiction , Coming of Age\n",
      "7    276746  0425115801            0                                          Lightning      Dean R. Koontz                        unknown  35.0   Fiction , Romance , Contemporary\n",
      "8    276746  0449006522            0                                Manhattan Hunt Club           JOHN SAUL                        unknown  35.0                                NaN\n",
      "9    276746  0553561618            0                                      Dark Paradise           TAMI HOAG                        unknown  35.0                                NaN\n",
      "10   276746  055356451X            0                                         Night Sins           TAMI HOAG                        unknown  35.0                                NaN\n",
      "11   276746  0786013990            0                                        At the Edge           David Dun                        unknown  35.0                                NaN\n",
      "12   276746  0786014512            0                                      Make Them Cry       Kevin O'Brien                        unknown  35.0                                NaN\n",
      "13   276747  0060517794            9                           Little Altars Everywhere       Rebecca Wells           iowa city, iowa, usa  25.0                    Fiction , Sagas\n",
      "14   276747  0451192001            0                     How Stella Got Her Groove Back      Terry McMillan           iowa city, iowa, usa  25.0        Fiction , Romance , General\n",
      "15   276747  0609801279            0                                    The Law of Love      Laura Esquivel           iowa city, iowa, usa  25.0                  Fiction , General\n",
      "16   276747  0671537458            9                                  Waiting to Exhale      Terry McMillan           iowa city, iowa, usa  25.0   Fiction , Romance , Contemporary\n",
      "17   276747  0679776818            8                  Birdsong: A Novel of Love and War    Sebastian Faulks           iowa city, iowa, usa  25.0                 Fiction , Literary\n",
      "18   276747  0943066433            7                  How to Deal With Difficult People       Rick Brinkman           iowa city, iowa, usa  25.0                Self-help , General\n",
      "19   276747  1570231028            0  Change Your Job, Change Your Life: High Impact...  Ronald L. Krannich           iowa city, iowa, usa  25.0                                NaN\n"
     ]
    }
   ],
   "source": [
    "#Prepare genre dataset\n",
    "genre_data = pd.read_csv('BooksDatasetClean.csv', encoding='ISO-8859-1')\n",
    "genre_data = genre_data[['Title', 'Category']]\n",
    "genre_data['Keyword_Count'] = genre_data['Category'].apply(lambda x: len(set(str(x).split(', '))))\n",
    "genre_data = genre_data.sort_values('Keyword_Count', ascending=False).drop_duplicates(subset='Title', keep='first')\n",
    "genre_data = genre_data.drop('Keyword_Count', axis=1)\n",
    "genre_data = genre_data.rename(columns={'Title': 'Book-Title', 'Category': 'Genre'})\n",
    "#Merge datasets\n",
    "data = pd.merge(data, genre_data, on='Book-Title', how='left')\n",
    "data.to_csv('MergedDataWithGenres.csv', index=False, encoding='ISO-8859-1')\n",
    "print(data.head(20))\n"
   ]
  },
  {
   "cell_type": "code",
   "execution_count": null,
   "metadata": {},
   "outputs": [],
   "source": [
    "reviews_data = pd.read_csv('merged_data.csv', encoding='ISO-8859-1', delimiter=';')\n",
    "genre_data = pd.read_csv('MergedDataWithGenres.csv', encoding='ISO-8859-1')\n",
    "\n",
    "merged_reviews = pd.merge(reviews_data, genre_data[['Book-Title', 'Genre']], on='Book-Title', how='left')\n",
    "\n",
    "merged_reviews.to_csv('userReviewsWithGenres.csv', index=False, encoding='ISO-8859-1')"
   ]
  },
  {
   "cell_type": "code",
   "execution_count": null,
   "metadata": {},
   "outputs": [
    {
     "name": "stdout",
     "output_type": "stream",
     "text": [
      "    User-ID        ISBN  Book-Rating                               Book-Title       Book-Author                            Location   Age                                              Genre                                           combined\n",
      "0    276727  0446520802            0                             The Notebook   Nicholas Sparks       h, new south wales, australia  16.0                     Fiction , Historical , General  The Notebook Nicholas Sparks  Fiction , Histor...\n",
      "1    276727  0446520802            0                             The Notebook   Nicholas Sparks       h, new south wales, australia  16.0                                  Fiction , General    The Notebook Nicholas Sparks  Fiction , General\n",
      "2    276744  038550120X            7                          A Painted House      JOHN GRISHAM           torrance, california, usa  35.0                            Fiction , Coming of Age  A Painted House JOHN GRISHAM  Fiction , Coming...\n",
      "3    276746  0425115801            0                                Lightning    Dean R. Koontz                             unknown  35.0                   Fiction , Romance , Contemporary  Lightning Dean R. Koontz  Fiction , Romance , ...\n",
      "4    276746  0425115801            0                                Lightning    Dean R. Koontz                             unknown  35.0            Fiction , Short Stories (single author)  Lightning Dean R. Koontz  Fiction , Short Stor...\n",
      "5    276747  0060517794            9                 Little Altars Everywhere     Rebecca Wells                iowa city, iowa, usa  25.0                                 Fiction , Literary  Little Altars Everywhere Rebecca Wells  Fictio...\n",
      "6    276747  0060517794            9                 Little Altars Everywhere     Rebecca Wells                iowa city, iowa, usa  25.0                                    Fiction , Sagas  Little Altars Everywhere Rebecca Wells  Fictio...\n",
      "7    276747  0451192001            0           How Stella Got Her Groove Back    Terry McMillan                iowa city, iowa, usa  25.0                        Fiction , Romance , General  How Stella Got Her Groove Back Terry McMillan ...\n",
      "8    276747  0451192001            0           How Stella Got Her Groove Back    Terry McMillan                iowa city, iowa, usa  25.0                                  Fiction , General  How Stella Got Her Groove Back Terry McMillan ...\n",
      "9    276747  0609801279            0                          The Law of Love    Laura Esquivel                iowa city, iowa, usa  25.0                                                NaN                                                   \n",
      "10   276747  0609801279            0                          The Law of Love    Laura Esquivel                iowa city, iowa, usa  25.0                                  Fiction , General  The Law of Love Laura Esquivel  Fiction , General\n",
      "11   276747  0671537458            9                        Waiting to Exhale    Terry McMillan                iowa city, iowa, usa  25.0                   Fiction , Romance , Contemporary  Waiting to Exhale Terry McMillan  Fiction , Ro...\n",
      "12   276747  0679776818            8        Birdsong: A Novel of Love and War  Sebastian Faulks                iowa city, iowa, usa  25.0                                 Fiction , Literary  Birdsong: A Novel of Love and War Sebastian Fa...\n",
      "13   276747  0943066433            7        How to Deal With Difficult People     Rick Brinkman                iowa city, iowa, usa  25.0                                Self-help , General  How to Deal With Difficult People Rick Brinkma...\n",
      "14   276754  0684867621            8  The Girl Who Loved Tom Gordon : A Novel      Stephen King      alberta beach, alberta, canada  19.0                            Fiction , Psychological  The Girl Who Loved Tom Gordon : A Novel Stephe...\n",
      "15   276755  0451166892            5                 The Pillars of the Earth       Ken Follett  frankfurt am main, hessen, germany  32.0                     Fiction , Thrillers , Suspense  The Pillars of the Earth Ken Follett  Fiction ...\n",
      "16   276772  0571058086            0                        Waiting for Godot    Samuel Beckett  bonn, nordrhein-westfalen, germany  35.0   Drama , European , English, Irish, Scottish, ...  Waiting for Godot Samuel Beckett  Drama , Euro...\n",
      "17   276786  8437606322            8                            Anna Karenina       Leo Tolstoy               madrid, madrid, spain  34.0           Fiction , Romance , Historical , General  Anna Karenina Leo Tolstoy  Fiction , Romance ,...\n",
      "18   276786  8437606322            8                            Anna Karenina       Leo Tolstoy               madrid, madrid, spain  34.0                                                NaN                                                   \n",
      "19   276788  055310666X           10                             False Memory    Dean R. Koontz            mentone, california, usa  35.0            Fiction , Mystery & Detective , General  False Memory Dean R. Koontz  Fiction , Mystery...\n"
     ]
    }
   ],
   "source": [
    "#Combine book title and author columns for content-based filtering\n",
    "data['combined'] = data['Book-Title']+ \" \" + data['Book-Author'] + \" \" + data['Genre']\n",
    "data['combined'] = data['combined'].fillna('')"
   ]
  },
  {
   "cell_type": "code",
   "execution_count": null,
   "metadata": {},
   "outputs": [],
   "source": [
    "#Vectorize the combined column\n",
    "tfdif = TfidfVectorizer(stop_words='english')\n",
    "tfidf_matrix = tfdif.fit_transform(data['combined'].drop_duplicates())"
   ]
  },
  {
   "cell_type": "code",
   "execution_count": null,
   "metadata": {},
   "outputs": [],
   "source": [
    "#Reduce dimensionality to ease memory usage\n",
    "from scipy.sparse import csr_matrix\n",
    "from sklearn.metrics.pairwise import cosine_similarity\n",
    "\n",
    "sparse_tfidf = csr_matrix(tfidf_matrix)\n",
    "cosine_sim = cosine_similarity(sparse_tfidf, dense_output=False)\n"
   ]
  },
  {
   "cell_type": "code",
   "execution_count": null,
   "metadata": {},
   "outputs": [],
   "source": [
    "# Map ISBN to index\n",
    "isbn_to_index = {isbn: i for i, isbn in enumerate(data['ISBN'].unique())}"
   ]
  },
  {
   "cell_type": "code",
   "execution_count": null,
   "metadata": {},
   "outputs": [],
   "source": [
    "# Collaborative filtering using Matrix Factorization\n",
    "# Create a pivot table\n",
    "data = data.dropna(subset=['User-ID', 'ISBN', 'Book-Rating'])\n",
    "data = data[data['Book-Rating'] >= 4]\n",
    "data['User-ID'] = data['User-ID'].astype(str)\n",
    "data['ISBN'] = data['ISBN'].astype(str)\n",
    "\n",
    "\n",
    "top_users = data['User-ID'].value_counts().nlargest(10000).index\n",
    "top_books = data['ISBN'].value_counts().nlargest(5000).index\n",
    "data = data[data['User-ID'].isin(top_users) & data['ISBN'].isin(top_books)]\n",
    "\n",
    "\n",
    "user_item_matrix = data.pivot_table(index='User-ID', columns='ISBN', values='Book-Rating').fillna(0)\n",
    "\n",
    "\n",
    "svd = TruncatedSVD(n_components=50)\n",
    "user_factors = svd.fit_transform(user_item_matrix)\n",
    "item_factors = svd.components_"
   ]
  },
  {
   "cell_type": "code",
   "execution_count": null,
   "metadata": {},
   "outputs": [],
   "source": [
    "def predict_ratings(user_id):\n",
    "    user_vector = user_factors[user_id-1]\n",
    "    predicted_ratings = np.dot(user_vector, item_factors)\n",
    "    return predicted_ratings"
   ]
  },
  {
   "cell_type": "code",
   "execution_count": null,
   "metadata": {},
   "outputs": [
    {
     "name": "stdout",
     "output_type": "stream",
     "text": [
      "['034545104X', '0439064872', '0345339681', '0345339703', '059035342X']\n"
     ]
    }
   ],
   "source": [
    "# Combine Collaborative and Content-based filtering\n",
    "def hybrid_rec(user_id, liked_isbn, top_n=5, alpha=0.5):\n",
    "    cf_ratings = predict_ratings(user_id)\n",
    "    cf_top_books = np.argsort(cf_ratings)[::-1][:top_n]\n",
    "    cf_book_ids = [user_item_matrix.columns[i] for i in cf_top_books]\n",
    "\n",
    "    if liked_isbn in isbn_to_index:\n",
    "        liked_book_index = isbn_to_index[liked_isbn]\n",
    "        content_similarities = cosine_sim[liked_book_index]\n",
    "        cb_top_books = np.argsort(content_similarities)[::-1][:top_n]\n",
    "        cb_book_ids = [list(isbn_to_index.keys())[i] for i in cb_top_books]\n",
    "    else:\n",
    "        cb_book_ids = []\n",
    "    \n",
    "    combined_recommendations = list(set(cf_book_ids+cb_book_ids))[:top_n]\n",
    "    return combined_recommendations\n",
    "print(hybrid_rec(1, '0689848935'))"
   ]
  }
 ],
 "metadata": {
  "kernelspec": {
   "display_name": "Python 3",
   "language": "python",
   "name": "python3"
  },
  "language_info": {
   "codemirror_mode": {
    "name": "ipython",
    "version": 3
   },
   "file_extension": ".py",
   "mimetype": "text/x-python",
   "name": "python",
   "nbconvert_exporter": "python",
   "pygments_lexer": "ipython3",
   "version": "3.11.7"
  }
 },
 "nbformat": 4,
 "nbformat_minor": 2
}
