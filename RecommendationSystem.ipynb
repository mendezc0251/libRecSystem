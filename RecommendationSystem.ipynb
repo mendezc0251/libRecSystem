{
 "cells": [
  {
   "cell_type": "code",
   "execution_count": null,
   "metadata": {},
   "outputs": [],
   "source": [
    "import pandas as pd\n",
    "import numpy as np\n",
    "from sklearn.decomposition import TruncatedSVD\n",
    "from sklearn.metrics.pairwise import cosine_similarity\n",
    "from sklearn.feature_extraction.text import TfidfVectorizer"
   ]
  },
  {
   "cell_type": "code",
   "execution_count": null,
   "metadata": {},
   "outputs": [],
   "source": [
    "#read in data sets\n",
    "ratings = pd.read_csv('BX-Book-Ratings.csv', encoding='ISO-8859-1', delimiter=';', on_bad_lines='skip')\n",
    "users = pd.read_csv('BX-Users.csv',encoding='ISO-8859-1', delimiter=';', on_bad_lines='skip')\n",
    "books = pd.read_csv('BX_Books.csv', encoding='ISO-8859-1', delimiter=';', quotechar='\"', skipinitialspace=True)"
   ]
  },
  {
   "cell_type": "code",
   "execution_count": null,
   "metadata": {},
   "outputs": [],
   "source": [
    "# #Remove images, year of publication, & publisher columns from Books dataset\n",
    "copy_books = books.drop(['Image-URL-S', 'Image-URL-M', 'Image-URL-L', 'Year-Of-Publication','Publisher'], axis=1)\n",
    "copy_books.to_csv('new_books.csv', index=False, sep=';', encoding='ISO-8859-1', quotechar='\"')\n",
    "# #books csv to df\n",
    "pd.set_option('display.max_columns', None) #To print entire df\n",
    "pd.set_option('display.expand_frame_repr', False) #To print entire df\n",
    "books_df = pd.read_csv('new_books.csv', encoding='ISO-8859-1', delimiter=';', quotechar='\"')"
   ]
  },
  {
   "cell_type": "code",
   "execution_count": null,
   "metadata": {},
   "outputs": [],
   "source": [
    "#Merge datasets\n",
    "isbn_merge = pd.merge(ratings, books_df, on='ISBN')\n",
    "fin_merge = pd.merge(isbn_merge, users, on='User-ID')"
   ]
  },
  {
   "cell_type": "code",
   "execution_count": null,
   "metadata": {},
   "outputs": [],
   "source": [
    "#replace na in Age column with median\n",
    "fin_merge['Age'] = fin_merge['Age'].fillna(fin_merge['Age'].median())"
   ]
  },
  {
   "cell_type": "code",
   "execution_count": null,
   "metadata": {},
   "outputs": [],
   "source": [
    "#replace any rows missing a value in location with n/a\n",
    "def clean_location(location):\n",
    "    parts = location.split(',')\n",
    "    if any(part.strip().lower() == 'n/a' for part in parts) or any(part.strip() == '' for part in parts):\n",
    "        return 'unknown'\n",
    "    return location\n",
    "fin_merge['Location'] = fin_merge['Location'].apply(clean_location)"
   ]
  },
  {
   "cell_type": "code",
   "execution_count": null,
   "metadata": {},
   "outputs": [],
   "source": [
    "#Replace na in location with unknown\n",
    "fin_merge['Location'] = fin_merge['Location'].replace('n/a','unknown')"
   ]
  },
  {
   "cell_type": "code",
   "execution_count": null,
   "metadata": {},
   "outputs": [],
   "source": [
    "#drop duplcate rows\n",
    "fin_merge.drop_duplicates(inplace=True)\n",
    "#create new csv file with cleaned data\n",
    "fin_merge.to_csv('merged_data.csv', index=False, sep=';', encoding='ISO-8859-1', quotechar='\"')\n",
    "print(fin_merge.head(20))"
   ]
  },
  {
   "cell_type": "code",
   "execution_count": null,
   "metadata": {},
   "outputs": [],
   "source": [
    "data = pd.read_csv('merged_data.csv', encoding='ISO-8859-1', delimiter=';')"
   ]
  },
  {
   "cell_type": "code",
   "execution_count": null,
   "metadata": {},
   "outputs": [],
   "source": [
    "#Combine book title and author columns for content-based filtering\n",
    "data['combined'] = data['Book-Title']+ \" \" + data['Book-Author']"
   ]
  },
  {
   "cell_type": "code",
   "execution_count": null,
   "metadata": {},
   "outputs": [],
   "source": [
    "#Vectorize the combined column\n",
    "tfdif = TfidfVectorizer(stop_words='english')\n",
    "tfidf_matrix = tfdif.fit_transform(data['combined'].drop_duplicates())"
   ]
  },
  {
   "cell_type": "code",
   "execution_count": null,
   "metadata": {},
   "outputs": [],
   "source": [
    "#get cosine similarity\n",
    "cosine_sim = cosine_similarity(tfidf_matrix, tfidf_matrix)"
   ]
  },
  {
   "cell_type": "code",
   "execution_count": null,
   "metadata": {},
   "outputs": [],
   "source": []
  }
 ],
 "metadata": {
  "language_info": {
   "name": "python"
  }
 },
 "nbformat": 4,
 "nbformat_minor": 2
}
